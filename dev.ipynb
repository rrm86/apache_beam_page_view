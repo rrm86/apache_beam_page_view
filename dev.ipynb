{
 "cells": [
  {
   "cell_type": "code",
   "execution_count": 22,
   "metadata": {},
   "outputs": [],
   "source": [
    "'''\n",
    "Descrição\n",
    "'''\n",
    "import argparse, json, logging, time\n",
    "\n",
    "import apache_beam as beam\n",
    "import apache_beam.transforms.window as window\n",
    "from apache_beam.io import ReadFromText\n",
    "from apache_beam.io import WriteToText\n",
    "from apache_beam.options.pipeline_options import PipelineOptions\n",
    "from apache_beam.options.pipeline_options import SetupOptions\n",
    "\n",
    "import time\n",
    "import datetime"
   ]
  },
  {
   "cell_type": "code",
   "execution_count": 279,
   "metadata": {},
   "outputs": [],
   "source": [
    "class Checkout(beam.DoFn):\n",
    "  \n",
    "  def process(self, element, window=beam.DoFn.WindowParam):\n",
    "    '''\n",
    "    Debug\n",
    "    \n",
    "    usuario = element[0]\n",
    "    eventos = str(len(element[1]))\n",
    "    window_end = window.end.to_utc_datetime()\n",
    "    window_start = window.start.to_utc_datetime()\n",
    "    session_duration = window_end - window_start\n",
    "    print('-----------')\n",
    "    print('user')\n",
    "    print(user)\n",
    "    print('element')\n",
    "    print(element)\n",
    "    print('num_events')\n",
    "    print(num_events)\n",
    "    print('window_end')\n",
    "    print(window.max_timestamp().to_utc_datetime())\n",
    "    print('window_start')\n",
    "    print(window_start)\n",
    "    print('session_duration')\n",
    "    print(session_duration)\n",
    "    print('chave')\n",
    "    res = [ sub['page'] for sub in element[1] ]\n",
    "    print('checkout' not in res)\n",
    "    print('-----------')\n",
    "    '''\n",
    "    pages = [ page['page'] for page in element[1] ]\n",
    "    if 'checkout' not in pages:\n",
    "        return element[1]\n",
    "    \n",
    "\n",
    "    #yield element"
   ]
  },
  {
   "cell_type": "code",
   "execution_count": 290,
   "metadata": {},
   "outputs": [],
   "source": [
    "def printer(data_item):\n",
    "    print(data_item)"
   ]
  },
  {
   "cell_type": "code",
   "execution_count": 270,
   "metadata": {},
   "outputs": [],
   "source": [
    "def parse_json(data_item):\n",
    "     yield json.loads(data_item)"
   ]
  },
  {
   "cell_type": "code",
   "execution_count": 291,
   "metadata": {},
   "outputs": [
    {
     "name": "stdout",
     "output_type": "stream",
     "text": [
      "{'timestamp': '2019-01-01 13:00:00', 'customer': 'customer-2', 'product': 'product-2', 'page': 'product'}\n",
      "{'timestamp': '2019-01-01 13:02:00', 'customer': 'customer-2', 'product': 'product-2', 'page': 'basket'}\n"
     ]
    }
   ],
   "source": [
    "\n",
    "p = beam.Pipeline(options=PipelineOptions())\n",
    "\n",
    "session_gap = 60*10 # 10 minutos\n",
    "\n",
    "with beam.Pipeline(options=PipelineOptions()) as p:\n",
    "    carrinho = (p\n",
    "        | 'Lê Arquivo' >> ReadFromText('input/page-views.json') \\\n",
    "        | 'Parse Json' >> beam.ParDo(parse_json)\n",
    "        | 'Adiciona Timestamp' >> beam.Map(lambda x: beam.window.TimestampedValue(\n",
    "            x,datetime.datetime.strptime(x['timestamp'], '%Y-%m-%d %H:%M:%S').timestamp()))\n",
    "        | 'Adciona chave'      >> beam.Map(lambda x: (x['customer'], x))\n",
    "        | 'Define Sessão'   >> beam.WindowInto(window.Sessions(session_gap),\n",
    "                                               timestamp_combiner=window.TimestampCombiner.OUTPUT_AT_EOW)\n",
    "        | 'Group By Key' >> beam.GroupByKey()\n",
    "        | 'Analise' >> beam.ParDo(Checkout())\n",
    "        | 'Imprime Resultado' >> beam.ParDo(printer)\n",
    "        #| 'Salva arquivo' >> WriteToText('output/teste','.json')\n",
    "        )"
   ]
  }
 ],
 "metadata": {
  "kernelspec": {
   "display_name": "Python 3",
   "language": "python",
   "name": "python3"
  },
  "language_info": {
   "codemirror_mode": {
    "name": "ipython",
    "version": 3
   },
   "file_extension": ".py",
   "mimetype": "text/x-python",
   "name": "python",
   "nbconvert_exporter": "python",
   "pygments_lexer": "ipython3",
   "version": "3.5.2"
  }
 },
 "nbformat": 4,
 "nbformat_minor": 2
}
